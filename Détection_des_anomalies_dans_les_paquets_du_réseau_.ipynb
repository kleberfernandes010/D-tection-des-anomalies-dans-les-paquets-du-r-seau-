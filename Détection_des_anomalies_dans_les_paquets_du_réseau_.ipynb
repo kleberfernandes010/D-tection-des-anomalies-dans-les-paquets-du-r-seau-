{
  "nbformat": 4,
  "nbformat_minor": 0,
  "metadata": {
    "colab": {
      "provenance": []
    },
    "kernelspec": {
      "name": "python3",
      "display_name": "Python 3"
    },
    "language_info": {
      "name": "python"
    }
  },
  "cells": [
    {
      "cell_type": "code",
      "execution_count": null,
      "metadata": {
        "id": "8vvD6gcw5Hra"
      },
      "outputs": [],
      "source": []
    },
    {
      "cell_type": "code",
      "source": [
        "!pip install scapy\n",
        "!pip install tensorflow keras\n",
        "!pip install flask\n",
        "\n"
      ],
      "metadata": {
        "id": "Jo4GiKlb5iRY"
      },
      "execution_count": null,
      "outputs": []
    },
    {
      "cell_type": "code",
      "source": [
        "!pip install scapy\n",
        "from scapy.all import sniff\n",
        "def packet_callback(packet):\n",
        "    print(packet.show())\n",
        "\n",
        "sniff(prn=packet_callback, count=10)"
      ],
      "metadata": {
        "id": "AIQx5J5E6YDR"
      },
      "execution_count": null,
      "outputs": []
    },
    {
      "cell_type": "code",
      "source": [
        "import random\n",
        "import pandas as pd\n",
        "\n",
        "\n",
        "def simulate_packet():\n",
        "    return {\n",
        "        'src_ip': f'192.168.0.{random.randint(1, 255)}',\n",
        "        'dest_ip': f'192.168.1.{random.randint(1, 255)}',\n",
        "        'protocol': random.choice(['TCP', 'UDP', 'ICMP']),\n",
        "        'length': random.randint(60, 1500)\n",
        "    }\n",
        "data = []\n",
        "for _ in range(1000):\n",
        "    data.append(simulate_packet())\n",
        "\n",
        "df = pd.DataFrame(data)\n",
        "\n",
        "df['protocol'] = df['protocol'].map({'TCP': 0, 'UDP': 1, 'ICMP': 2})\n",
        "\n",
        "\n",
        "df.head()"
      ],
      "metadata": {
        "id": "0IRsIZsw6rvs"
      },
      "execution_count": null,
      "outputs": []
    },
    {
      "cell_type": "code",
      "source": [
        "try:\n",
        "    from scapy.all import sniff\n",
        "    print(\"Scapy instalado com sucesso!\")\n",
        "except ImportError:\n",
        "    print(\"Erro ao instalar Scapy.\")\n",
        "try:\n",
        "    import tensorflow as tf\n",
        "    print(\"TensorFlow instalado com sucesso!\")\n",
        "except ImportError:\n",
        "    print(\"Erro ao instalar TensorFlow.\")"
      ],
      "metadata": {
        "id": "INocLaxo7xds"
      },
      "execution_count": null,
      "outputs": []
    },
    {
      "cell_type": "code",
      "source": [
        "import random\n",
        "def simulate_packet():\n",
        "    return { 'src_ip': f'192.168.0.{random.randint(1, 255)}',\n",
        "        'dest_ip': f'192.168.1.{random.randint(1, 255)}',\n",
        "        'protocol': random.choice(['TCP', 'UDP', 'ICMP']),\n",
        "        'length': random.randint(60, 1500)\n",
        "    }\n",
        "def packet_callback(packet):\n",
        "    print(packet)\n",
        "for _ in range(10):\n",
        "    packet = simulate_packet()\n",
        "    packet_callback(packet)"
      ],
      "metadata": {
        "id": "QW-ZJpc88lA5"
      },
      "execution_count": null,
      "outputs": []
    },
    {
      "cell_type": "code",
      "source": [
        "import numpy as np\n",
        "import pandas as pd\n",
        "from sklearn.model_selection import train_test_split\n",
        "from sklearn.preprocessing import StandardScaler\n",
        "from tensorflow.keras.models import Model\n",
        "from tensorflow.keras.layers import Input, Dense\n",
        "print(\"Bibliotecas importadas com sucesso!\")"
      ],
      "metadata": {
        "id": "Ux70LuQ499Tb"
      },
      "execution_count": null,
      "outputs": []
    },
    {
      "cell_type": "code",
      "source": [
        "data = []\n",
        "for _ in range(1000):\n",
        "    data.append(simulate_packet())\n",
        "\n",
        "df = pd.DataFrame(data)\n",
        "\n",
        "df['protocol'] = df['protocol'].map({'TCP': 0, 'UDP': 1, 'ICMP': 2})\n",
        "df.head()"
      ],
      "metadata": {
        "id": "iuyJUzrJ-haK"
      },
      "execution_count": null,
      "outputs": []
    },
    {
      "cell_type": "code",
      "source": [
        "X = df[['src_ip', 'dest_ip', 'protocol', 'length']]\n",
        "\n",
        "X['src_ip'] = X['src_ip'].apply(lambda x: int(x.split('.')[3]))\n",
        "X['dest_ip'] = X['dest_ip'].apply(lambda x: int(x.split('.')[3]))\n",
        "\n",
        "\n",
        "scaler= StandardScaler()\n",
        "X_scaled= scaler.fit_transform(X)\n",
        "\n",
        "\n",
        "X_train, X_test = train_test_split(X_scaled, test_size=0.2, random_state=42)\n",
        "\n",
        "print(\"Dados pré-processados com sucesso!\")\n"
      ],
      "metadata": {
        "colab": {
          "base_uri": "https://localhost:8080/"
        },
        "id": "yxu7l5NKquow",
        "outputId": "f144dd56-323c-4b86-b69c-ad3e17ad784e"
      },
      "execution_count": 31,
      "outputs": [
        {
          "output_type": "stream",
          "name": "stdout",
          "text": [
            "Dados pré-processados com sucesso!\n"
          ]
        }
      ]
    },
    {
      "cell_type": "code",
      "source": [
        "input_dim = X_train.shape[1]\n",
        "\n",
        "input_layer = Input(shape=(input_dim,))\n",
        "encoder = Dense(4, activation=\"relu\")(input_layer)\n",
        "encoder = Dense(2, activation=\"relu\")(encoder)\n",
        "decoder = Dense(4, activation='relu')(encoder)\n",
        "decoder = Dense(input_dim, activation='sigmoid')(decoder)\n",
        "\n",
        "autoencoder = Model(inputs=input_layer, outputs=decoder)\n",
        "autoencoder.compile(optimizer='adam', loss='mean_squared_error')\n",
        "\n",
        "print(\"Modelo de Autoencoder criado com sucesso!\")"
      ],
      "metadata": {
        "colab": {
          "base_uri": "https://localhost:8080/"
        },
        "id": "YsnPznjFbPvX",
        "outputId": "e6d6628b-43b0-4a26-edce-6f19aa941cc2"
      },
      "execution_count": 32,
      "outputs": [
        {
          "output_type": "stream",
          "name": "stdout",
          "text": [
            "Modelo de Autoencoder criado com sucesso!\n"
          ]
        }
      ]
    },
    {
      "cell_type": "code",
      "source": [
        "history = autoencoder.fit(X_train, X_train,\n",
        "                          epochs=50,\n",
        "                          batch_size=16,\n",
        "                          validation_data=(X_test, X_test))\n",
        "print(\"modelo treinado com sucesso\")"
      ],
      "metadata": {
        "id": "0ungSqIIcB73"
      },
      "execution_count": null,
      "outputs": []
    },
    {
      "cell_type": "code",
      "source": [
        "predictions = autoencoder.predict(X_test)\n",
        "mse = np.mean(np.power(X_test - predictions, 2), axis=1)\n",
        "threshold = np.percentile(mse, 95)\n",
        "anomalies = mse > threshold\n",
        "print(f\"Numero de anomalias detectadas: {np.sum(anomalies)}\")"
      ],
      "metadata": {
        "colab": {
          "base_uri": "https://localhost:8080/"
        },
        "id": "uOuFJAgfdGdy",
        "outputId": "ea68e952-b26b-4a84-ac71-33054d7b53ca"
      },
      "execution_count": 23,
      "outputs": [
        {
          "output_type": "stream",
          "name": "stdout",
          "text": [
            "\u001b[1m7/7\u001b[0m \u001b[32m━━━━━━━━━━━━━━━━━━━━\u001b[0m\u001b[37m\u001b[0m \u001b[1m0s\u001b[0m 2ms/step \n",
            "Numero de anomalias detectadas: 10\n"
          ]
        }
      ]
    },
    {
      "cell_type": "code",
      "source": [
        "!pip install plotly"
      ],
      "metadata": {
        "id": "gCGnFJOTdsR1"
      },
      "execution_count": null,
      "outputs": []
    },
    {
      "cell_type": "code",
      "source": [
        "import plotly.express as px\n",
        "results = pd.DataFrame(X_test, columns=['src_ip', 'dest_ip', 'protocol', 'length'])\n",
        "results['mse'] = mse\n",
        "results['anomaly'] = anomalies\n",
        "fig = px.scatter(results, x='src_ip', y='mse', color='anomaly', title=\"Detecção de Anomalias\")\n",
        "fig.show()"
      ],
      "metadata": {
        "colab": {
          "base_uri": "https://localhost:8080/",
          "height": 542
        },
        "id": "01sU6lzveiay",
        "outputId": "bc0e8d65-9485-48ba-c74c-29b938042b18"
      },
      "execution_count": 34,
      "outputs": [
        {
          "output_type": "display_data",
          "data": {
            "text/html": [
              "<html>\n",
              "<head><meta charset=\"utf-8\" /></head>\n",
              "<body>\n",
              "    <div>            <script src=\"https://cdnjs.cloudflare.com/ajax/libs/mathjax/2.7.5/MathJax.js?config=TeX-AMS-MML_SVG\"></script><script type=\"text/javascript\">if (window.MathJax && window.MathJax.Hub && window.MathJax.Hub.Config) {window.MathJax.Hub.Config({SVG: {font: \"STIX-Web\"}});}</script>                <script type=\"text/javascript\">window.PlotlyConfig = {MathJaxConfig: 'local'};</script>\n",
              "        <script charset=\"utf-8\" src=\"https://cdn.plot.ly/plotly-2.35.2.min.js\"></script>                <div id=\"323bf762-3322-4d87-9873-d36e8a7754a3\" class=\"plotly-graph-div\" style=\"height:525px; width:100%;\"></div>            <script type=\"text/javascript\">                                    window.PLOTLYENV=window.PLOTLYENV || {};                                    if (document.getElementById(\"323bf762-3322-4d87-9873-d36e8a7754a3\")) {                    Plotly.newPlot(                        \"323bf762-3322-4d87-9873-d36e8a7754a3\",                        [{\"hovertemplate\":\"anomaly=False\\u003cbr\\u003esrc_ip=%{x}\\u003cbr\\u003emse=%{y}\\u003cextra\\u003e\\u003c\\u002fextra\\u003e\",\"legendgroup\":\"False\",\"marker\":{\"color\":\"#636efa\",\"symbol\":\"circle\"},\"mode\":\"markers\",\"name\":\"False\",\"orientation\":\"v\",\"showlegend\":true,\"x\":[-0.26788381254308075,-1.0299999221962266,1.6918433265650086,-0.22705616381166221,-0.2814930287868869,-1.7104607343865355,1.338003704226048,-1.2749658145847378,-0.3495391100059178,1.6374064615897839,1.6782341103212024,-0.022917920154569567,-1.288575030828544,-0.5672865699068166,0.9841640818870875,1.5149235153955283,-0.8394708947829401,0.6575428920357392,0.8480719194490257,1.038600946862312,0.8888995681804442,-0.37675754249353016,0.9297272169118628,-0.07735478512979427,-0.676160299857266,1.719061759052621,-1.2749658145847378,-1.6424146531675046,0.5078415133538713,0.031518944820655134,-0.825861678539134,-1.5335409232170552,-1.438276409510412,-0.9619538409771957,-1.4110579770227996,-0.1181824338612128,0.4942322971100651,-1.6424146531675046,0.943336433155669,-1.0708275709276451,-0.21344694756785604,-1.138873652146676,1.256348406763211,1.2155207580317924,0.8344627032052195,1.3516129204698542,0.5214507295976775,0.4534046483786466,-1.2749658145847378,-0.6489418673696536,0.9569456493994751,-0.5945050023944289,0.30370326969677863,-0.40397597498114246,1.3788313529574665,0.330921702184391,-0.8530801110267463,-1.1252644359028698,0.5078415133538713,-1.7104607343865355,-0.7714248135639092,-0.363148326249724,0.04512816106446131,-1.669633085655117,-0.7169879485886845,0.7528074057423825,1.4332682179326912,0.7119797570109639,0.6983705407671578,-0.2814930287868869,1.3924405692012727,0.9705548656432813,0.8888995681804442,0.30370326969677863,1.501314299151722,-0.8666893272705525,0.4942322971100651,1.4740958666641097,-0.19983773132404986,0.46701386462245276,-0.7986432460515216,-1.683242301898923,1.5421419478831406,1.6101880291021715,-0.45841283995636717,0.8888995681804442,1.0658193793499244,1.0930378118375368,-1.601587004436086,1.6646248940773962,-1.5743685719484737,0.7800258382299948,0.7800258382299948,0.6031060270605145,-0.7033787323448784,-1.5743685719484737,1.1746931093003738,0.3853585671596157,-0.14540086634882515,-1.1116552196590637,-0.8530801110267463,1.4604866504203036,-0.5128497049315919,0.9705548656432813,0.2764848372091663,-1.683242301898923,0.7119797570109639,1.732670975296427,-0.6489418673696536,-1.5743685719484737,-0.13179165010501898,0.6711521082795454,-0.5400681374192042,-1.6288054369236984,0.562278378329096,-0.7986432460515216,1.3924405692012727,-0.7033787323448784,1.269957623007017,0.7255889732547701,-1.057218354683839,-1.3566211120475749,-0.9755630572210019,0.793635054473801,-1.2341381658533193,-0.9755630572210019,1.5421419478831406,1.4604866504203036,-0.4856312724439795,0.04512816106446131,0.8344627032052195,-0.32232067751830545,-0.15901008259263133,1.106647028081343,-0.10457321761740662,0.05873737730826749,0.4261862158910342,-1.6151962206798922,0.6983705407671578,-0.7714248135639092,0.9161180006680566,-0.9211261922457772,-0.7986432460515216,-0.526458921175398,0.943336433155669,0.34453091842819716,-1.1660920846342884,0.12678345852729836,0.3853585671596157,0.5758875945729022,0.8072442707176072,0.3717493509158095,-1.5335409232170552,-0.7169879485886845,0.330921702184391,0.12678345852729836,-1.3021842470723501,0.23565718847774778,0.0043005123330427854,0.29009405345297246,-1.6968515181427293,-1.2613565983409316,-1.6151962206798922,-1.2613565983409316,-0.37675754249353016,-1.7104607343865355,0.20843875599013542,-1.1660920846342884,1.501314299151722,-1.601587004436086,-1.3430118958037687,-1.3021842470723501,1.338003704226048,-1.3294026795599625,-1.5471501394608613,0.6847613245233516,-0.676160299857266,-1.5335409232170552,0.6439336757919331,-0.8802985435143587,-1.2477473820971254,0.7664166219861887,-1.3430118958037687,-1.683242301898923,-1.683242301898923,-0.7578155973201031,-1.683242301898923,-0.33592989376211163,0.09956502603968602,-0.00930870391076339],\"xaxis\":\"x\",\"y\":[0.9399504811510606,0.2700565538171823,0.22761719297457195,0.6223462451867765,0.9901408216683475,0.5241852543878088,0.6877227794605212,0.2690281491726922,0.5281435195824455,0.6255213007897812,1.3727706277376326,0.7118235521695893,0.26424563230448406,0.882792678239918,1.074600712692441,1.214291126434562,0.8764029571022239,1.1194133469169805,0.3664186313321455,1.3622780863703436,0.41777750813371994,0.7509791212287487,1.559656091000968,1.2521577777333563,0.5846108555462777,0.42230239722392365,1.0404094152690324,0.5048977187543198,0.8933365966332356,0.6212070264997558,0.05683112616387205,0.7983871209528165,0.6815804282482636,1.525131376579744,0.7082256778207315,1.4710100065410328,0.8097694836058171,0.9903208393110164,0.7190588113891747,1.1232574253137084,0.9414887977832092,0.5364966176530034,0.06506988399706769,0.43843465717314023,0.5417453684338565,1.2041979253430186,0.7764978177381596,0.3734162142152424,1.1149134393529683,0.5151105617015262,1.2632703012358295,0.6061782163629686,0.4084554283370418,0.7140507821860709,1.3655131278020074,0.5567928738522816,0.6281805584247862,0.19050683470255989,0.8411898959207202,0.4992445062060858,0.03568991585259077,1.3481430875664207,0.2757050110941163,0.6912917637831024,0.793997752079612,1.1530008849212874,1.065280296444547,1.4257140577348149,1.131123152628303,0.4712096546608045,0.43497250174623947,0.8861634299223831,0.6538280830748302,0.8893920683231357,0.9208680390582974,1.4461269709290627,0.24588872088662475,0.4049226858232407,0.3966315662526321,0.9462815830599726,1.0198995505190023,0.2105111823651541,0.7558909829614324,0.5945120315658246,0.6423243396861277,0.9376673903426538,1.2855362588698789,0.3825258550575118,0.4279244565876965,0.5730709190695621,0.2346365450581676,0.7823354678975336,1.3164985692430673,0.4293504403751201,0.6100623383738046,0.5534635962532891,0.3436885301991944,1.1849321173955443,0.7075026996738886,0.7362661932835384,0.10958602562659583,0.5541189012447156,1.2771404905904638,1.0865181399821584,0.6308469226096508,0.6987356322866806,0.30212094460464045,0.7449835449097789,0.6096946192783524,0.35306914143769996,0.8642862594418126,0.40041659650070527,1.111042529652584,0.8194848537521552,0.49772747463902445,1.0241109025948119,0.9918976553909267,0.8368238710463973,1.1152240878385031,0.831935925734187,1.1662059405085965,0.4233824744638662,0.9582155612822747,1.5143898620953817,0.3761874953007792,0.32284516859879353,0.2619713552708595,0.44668623020242804,0.7257471976709606,0.7967915477707628,1.1155266453664678,0.3160338857079017,0.3447186809343189,0.304306142454198,0.09268084498210202,0.8640083657852281,0.9250592449800148,0.6868314863603396,0.6165026892193525,1.260772091498179,0.18101611791536656,1.2480581146906893,0.6477722936304134,0.5419209184983393,0.4355598567097514,0.9006020616736199,0.714649466782918,0.8259325504180937,0.012815133957719993,0.7860218366545687,0.955862888768759,1.5028156822442202,0.6106187391731779,0.5498165492395044,0.22095563749849267,0.34062720581677997,0.36582249689034474,0.37597643665388025,0.201469630559758,1.3272590461701397,0.7451578543099124,1.139421952576276,0.46252177594090466,0.695221721201887,0.22657010853275172,0.5803939492428698,0.8452997163728739,0.4839023336352388,1.1658082206723386,0.8893334759121148,0.3132639449832423,0.9348229791013081,1.0931273554141185,0.5522332257934931,0.65129830588464,0.8378349680951387,0.6539417398922196,0.4367770532007584,0.5526685604676151,1.123750835277351,0.7941232094964799,0.7561520671358952,0.42415719240695476,0.4974282802676294,0.1570348449695422,0.6679311851930497,0.6532101962616712,0.2173546501851255,0.7964100214793566,0.20526934582000328],\"yaxis\":\"y\",\"type\":\"scatter\"},{\"hovertemplate\":\"anomaly=True\\u003cbr\\u003esrc_ip=%{x}\\u003cbr\\u003emse=%{y}\\u003cextra\\u003e\\u003c\\u002fextra\\u003e\",\"legendgroup\":\"True\",\"marker\":{\"color\":\"#EF553B\",\"symbol\":\"circle\"},\"mode\":\"markers\",\"name\":\"True\",\"orientation\":\"v\",\"showlegend\":true,\"x\":[0.39896778340342187,-0.526458921175398,0.30370326969677863,-1.3021842470723501,-0.1726192988364375,-0.7986432460515216,1.038600946862312,0.793635054473801,-0.5128497049315919,-0.7986432460515216],\"xaxis\":\"x\",\"y\":[1.580224813253706,1.6944153745386616,2.5597464613669265,1.5826591544021478,1.5666603901565341,1.7245090325006014,1.8174811186412754,1.719936899532915,1.7158503629034672,1.5720279893152864],\"yaxis\":\"y\",\"type\":\"scatter\"}],                        {\"template\":{\"data\":{\"histogram2dcontour\":[{\"type\":\"histogram2dcontour\",\"colorbar\":{\"outlinewidth\":0,\"ticks\":\"\"},\"colorscale\":[[0.0,\"#0d0887\"],[0.1111111111111111,\"#46039f\"],[0.2222222222222222,\"#7201a8\"],[0.3333333333333333,\"#9c179e\"],[0.4444444444444444,\"#bd3786\"],[0.5555555555555556,\"#d8576b\"],[0.6666666666666666,\"#ed7953\"],[0.7777777777777778,\"#fb9f3a\"],[0.8888888888888888,\"#fdca26\"],[1.0,\"#f0f921\"]]}],\"choropleth\":[{\"type\":\"choropleth\",\"colorbar\":{\"outlinewidth\":0,\"ticks\":\"\"}}],\"histogram2d\":[{\"type\":\"histogram2d\",\"colorbar\":{\"outlinewidth\":0,\"ticks\":\"\"},\"colorscale\":[[0.0,\"#0d0887\"],[0.1111111111111111,\"#46039f\"],[0.2222222222222222,\"#7201a8\"],[0.3333333333333333,\"#9c179e\"],[0.4444444444444444,\"#bd3786\"],[0.5555555555555556,\"#d8576b\"],[0.6666666666666666,\"#ed7953\"],[0.7777777777777778,\"#fb9f3a\"],[0.8888888888888888,\"#fdca26\"],[1.0,\"#f0f921\"]]}],\"heatmap\":[{\"type\":\"heatmap\",\"colorbar\":{\"outlinewidth\":0,\"ticks\":\"\"},\"colorscale\":[[0.0,\"#0d0887\"],[0.1111111111111111,\"#46039f\"],[0.2222222222222222,\"#7201a8\"],[0.3333333333333333,\"#9c179e\"],[0.4444444444444444,\"#bd3786\"],[0.5555555555555556,\"#d8576b\"],[0.6666666666666666,\"#ed7953\"],[0.7777777777777778,\"#fb9f3a\"],[0.8888888888888888,\"#fdca26\"],[1.0,\"#f0f921\"]]}],\"heatmapgl\":[{\"type\":\"heatmapgl\",\"colorbar\":{\"outlinewidth\":0,\"ticks\":\"\"},\"colorscale\":[[0.0,\"#0d0887\"],[0.1111111111111111,\"#46039f\"],[0.2222222222222222,\"#7201a8\"],[0.3333333333333333,\"#9c179e\"],[0.4444444444444444,\"#bd3786\"],[0.5555555555555556,\"#d8576b\"],[0.6666666666666666,\"#ed7953\"],[0.7777777777777778,\"#fb9f3a\"],[0.8888888888888888,\"#fdca26\"],[1.0,\"#f0f921\"]]}],\"contourcarpet\":[{\"type\":\"contourcarpet\",\"colorbar\":{\"outlinewidth\":0,\"ticks\":\"\"}}],\"contour\":[{\"type\":\"contour\",\"colorbar\":{\"outlinewidth\":0,\"ticks\":\"\"},\"colorscale\":[[0.0,\"#0d0887\"],[0.1111111111111111,\"#46039f\"],[0.2222222222222222,\"#7201a8\"],[0.3333333333333333,\"#9c179e\"],[0.4444444444444444,\"#bd3786\"],[0.5555555555555556,\"#d8576b\"],[0.6666666666666666,\"#ed7953\"],[0.7777777777777778,\"#fb9f3a\"],[0.8888888888888888,\"#fdca26\"],[1.0,\"#f0f921\"]]}],\"surface\":[{\"type\":\"surface\",\"colorbar\":{\"outlinewidth\":0,\"ticks\":\"\"},\"colorscale\":[[0.0,\"#0d0887\"],[0.1111111111111111,\"#46039f\"],[0.2222222222222222,\"#7201a8\"],[0.3333333333333333,\"#9c179e\"],[0.4444444444444444,\"#bd3786\"],[0.5555555555555556,\"#d8576b\"],[0.6666666666666666,\"#ed7953\"],[0.7777777777777778,\"#fb9f3a\"],[0.8888888888888888,\"#fdca26\"],[1.0,\"#f0f921\"]]}],\"mesh3d\":[{\"type\":\"mesh3d\",\"colorbar\":{\"outlinewidth\":0,\"ticks\":\"\"}}],\"scatter\":[{\"fillpattern\":{\"fillmode\":\"overlay\",\"size\":10,\"solidity\":0.2},\"type\":\"scatter\"}],\"parcoords\":[{\"type\":\"parcoords\",\"line\":{\"colorbar\":{\"outlinewidth\":0,\"ticks\":\"\"}}}],\"scatterpolargl\":[{\"type\":\"scatterpolargl\",\"marker\":{\"colorbar\":{\"outlinewidth\":0,\"ticks\":\"\"}}}],\"bar\":[{\"error_x\":{\"color\":\"#2a3f5f\"},\"error_y\":{\"color\":\"#2a3f5f\"},\"marker\":{\"line\":{\"color\":\"#E5ECF6\",\"width\":0.5},\"pattern\":{\"fillmode\":\"overlay\",\"size\":10,\"solidity\":0.2}},\"type\":\"bar\"}],\"scattergeo\":[{\"type\":\"scattergeo\",\"marker\":{\"colorbar\":{\"outlinewidth\":0,\"ticks\":\"\"}}}],\"scatterpolar\":[{\"type\":\"scatterpolar\",\"marker\":{\"colorbar\":{\"outlinewidth\":0,\"ticks\":\"\"}}}],\"histogram\":[{\"marker\":{\"pattern\":{\"fillmode\":\"overlay\",\"size\":10,\"solidity\":0.2}},\"type\":\"histogram\"}],\"scattergl\":[{\"type\":\"scattergl\",\"marker\":{\"colorbar\":{\"outlinewidth\":0,\"ticks\":\"\"}}}],\"scatter3d\":[{\"type\":\"scatter3d\",\"line\":{\"colorbar\":{\"outlinewidth\":0,\"ticks\":\"\"}},\"marker\":{\"colorbar\":{\"outlinewidth\":0,\"ticks\":\"\"}}}],\"scattermapbox\":[{\"type\":\"scattermapbox\",\"marker\":{\"colorbar\":{\"outlinewidth\":0,\"ticks\":\"\"}}}],\"scatterternary\":[{\"type\":\"scatterternary\",\"marker\":{\"colorbar\":{\"outlinewidth\":0,\"ticks\":\"\"}}}],\"scattercarpet\":[{\"type\":\"scattercarpet\",\"marker\":{\"colorbar\":{\"outlinewidth\":0,\"ticks\":\"\"}}}],\"carpet\":[{\"aaxis\":{\"endlinecolor\":\"#2a3f5f\",\"gridcolor\":\"white\",\"linecolor\":\"white\",\"minorgridcolor\":\"white\",\"startlinecolor\":\"#2a3f5f\"},\"baxis\":{\"endlinecolor\":\"#2a3f5f\",\"gridcolor\":\"white\",\"linecolor\":\"white\",\"minorgridcolor\":\"white\",\"startlinecolor\":\"#2a3f5f\"},\"type\":\"carpet\"}],\"table\":[{\"cells\":{\"fill\":{\"color\":\"#EBF0F8\"},\"line\":{\"color\":\"white\"}},\"header\":{\"fill\":{\"color\":\"#C8D4E3\"},\"line\":{\"color\":\"white\"}},\"type\":\"table\"}],\"barpolar\":[{\"marker\":{\"line\":{\"color\":\"#E5ECF6\",\"width\":0.5},\"pattern\":{\"fillmode\":\"overlay\",\"size\":10,\"solidity\":0.2}},\"type\":\"barpolar\"}],\"pie\":[{\"automargin\":true,\"type\":\"pie\"}]},\"layout\":{\"autotypenumbers\":\"strict\",\"colorway\":[\"#636efa\",\"#EF553B\",\"#00cc96\",\"#ab63fa\",\"#FFA15A\",\"#19d3f3\",\"#FF6692\",\"#B6E880\",\"#FF97FF\",\"#FECB52\"],\"font\":{\"color\":\"#2a3f5f\"},\"hovermode\":\"closest\",\"hoverlabel\":{\"align\":\"left\"},\"paper_bgcolor\":\"white\",\"plot_bgcolor\":\"#E5ECF6\",\"polar\":{\"bgcolor\":\"#E5ECF6\",\"angularaxis\":{\"gridcolor\":\"white\",\"linecolor\":\"white\",\"ticks\":\"\"},\"radialaxis\":{\"gridcolor\":\"white\",\"linecolor\":\"white\",\"ticks\":\"\"}},\"ternary\":{\"bgcolor\":\"#E5ECF6\",\"aaxis\":{\"gridcolor\":\"white\",\"linecolor\":\"white\",\"ticks\":\"\"},\"baxis\":{\"gridcolor\":\"white\",\"linecolor\":\"white\",\"ticks\":\"\"},\"caxis\":{\"gridcolor\":\"white\",\"linecolor\":\"white\",\"ticks\":\"\"}},\"coloraxis\":{\"colorbar\":{\"outlinewidth\":0,\"ticks\":\"\"}},\"colorscale\":{\"sequential\":[[0.0,\"#0d0887\"],[0.1111111111111111,\"#46039f\"],[0.2222222222222222,\"#7201a8\"],[0.3333333333333333,\"#9c179e\"],[0.4444444444444444,\"#bd3786\"],[0.5555555555555556,\"#d8576b\"],[0.6666666666666666,\"#ed7953\"],[0.7777777777777778,\"#fb9f3a\"],[0.8888888888888888,\"#fdca26\"],[1.0,\"#f0f921\"]],\"sequentialminus\":[[0.0,\"#0d0887\"],[0.1111111111111111,\"#46039f\"],[0.2222222222222222,\"#7201a8\"],[0.3333333333333333,\"#9c179e\"],[0.4444444444444444,\"#bd3786\"],[0.5555555555555556,\"#d8576b\"],[0.6666666666666666,\"#ed7953\"],[0.7777777777777778,\"#fb9f3a\"],[0.8888888888888888,\"#fdca26\"],[1.0,\"#f0f921\"]],\"diverging\":[[0,\"#8e0152\"],[0.1,\"#c51b7d\"],[0.2,\"#de77ae\"],[0.3,\"#f1b6da\"],[0.4,\"#fde0ef\"],[0.5,\"#f7f7f7\"],[0.6,\"#e6f5d0\"],[0.7,\"#b8e186\"],[0.8,\"#7fbc41\"],[0.9,\"#4d9221\"],[1,\"#276419\"]]},\"xaxis\":{\"gridcolor\":\"white\",\"linecolor\":\"white\",\"ticks\":\"\",\"title\":{\"standoff\":15},\"zerolinecolor\":\"white\",\"automargin\":true,\"zerolinewidth\":2},\"yaxis\":{\"gridcolor\":\"white\",\"linecolor\":\"white\",\"ticks\":\"\",\"title\":{\"standoff\":15},\"zerolinecolor\":\"white\",\"automargin\":true,\"zerolinewidth\":2},\"scene\":{\"xaxis\":{\"backgroundcolor\":\"#E5ECF6\",\"gridcolor\":\"white\",\"linecolor\":\"white\",\"showbackground\":true,\"ticks\":\"\",\"zerolinecolor\":\"white\",\"gridwidth\":2},\"yaxis\":{\"backgroundcolor\":\"#E5ECF6\",\"gridcolor\":\"white\",\"linecolor\":\"white\",\"showbackground\":true,\"ticks\":\"\",\"zerolinecolor\":\"white\",\"gridwidth\":2},\"zaxis\":{\"backgroundcolor\":\"#E5ECF6\",\"gridcolor\":\"white\",\"linecolor\":\"white\",\"showbackground\":true,\"ticks\":\"\",\"zerolinecolor\":\"white\",\"gridwidth\":2}},\"shapedefaults\":{\"line\":{\"color\":\"#2a3f5f\"}},\"annotationdefaults\":{\"arrowcolor\":\"#2a3f5f\",\"arrowhead\":0,\"arrowwidth\":1},\"geo\":{\"bgcolor\":\"white\",\"landcolor\":\"#E5ECF6\",\"subunitcolor\":\"white\",\"showland\":true,\"showlakes\":true,\"lakecolor\":\"white\"},\"title\":{\"x\":0.05},\"mapbox\":{\"style\":\"light\"}}},\"xaxis\":{\"anchor\":\"y\",\"domain\":[0.0,1.0],\"title\":{\"text\":\"src_ip\"}},\"yaxis\":{\"anchor\":\"x\",\"domain\":[0.0,1.0],\"title\":{\"text\":\"mse\"}},\"legend\":{\"title\":{\"text\":\"anomaly\"},\"tracegroupgap\":0},\"title\":{\"text\":\"Detecção de Anomalias\"}},                        {\"responsive\": true}                    ).then(function(){\n",
              "                            \n",
              "var gd = document.getElementById('323bf762-3322-4d87-9873-d36e8a7754a3');\n",
              "var x = new MutationObserver(function (mutations, observer) {{\n",
              "        var display = window.getComputedStyle(gd).display;\n",
              "        if (!display || display === 'none') {{\n",
              "            console.log([gd, 'removed!']);\n",
              "            Plotly.purge(gd);\n",
              "            observer.disconnect();\n",
              "        }}\n",
              "}});\n",
              "\n",
              "// Listen for the removal of the full notebook cells\n",
              "var notebookContainer = gd.closest('#notebook-container');\n",
              "if (notebookContainer) {{\n",
              "    x.observe(notebookContainer, {childList: true});\n",
              "}}\n",
              "\n",
              "// Listen for the clearing of the current output cell\n",
              "var outputEl = gd.closest('.output');\n",
              "if (outputEl) {{\n",
              "    x.observe(outputEl, {childList: true});\n",
              "}}\n",
              "\n",
              "                        })                };                            </script>        </div>\n",
              "</body>\n",
              "</html>"
            ]
          },
          "metadata": {}
        }
      ]
    }
  ]
}